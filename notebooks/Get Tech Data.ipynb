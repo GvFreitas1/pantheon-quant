{
 "cells": [
  {
   "cell_type": "code",
   "execution_count": null,
   "id": "e3efc514",
   "metadata": {},
   "outputs": [
    {
     "name": "stderr",
     "output_type": "stream",
     "text": [
      "\u001b[32m2025-10-06 17:49:43.067\u001b[0m | \u001b[1mINFO    \u001b[0m | \u001b[36mpantheon.config\u001b[0m:\u001b[36m<module>\u001b[0m:\u001b[36m11\u001b[0m - \u001b[1mPROJ_ROOT path is: C:\\Users\\User\\Documents\\GitHub\\pantheon-quant\u001b[0m\n"
     ]
    }
   ],
   "source": [
    "import investpy \n",
    "import pandas as pd\n",
    "import time\n",
    "import warnings\n",
    "warnings.filterwarnings(\"ignore\")\n",
    "\n",
    "\n",
    "import sys, os\n",
    "sys.path.append(os.path.abspath(\"..\"))\n",
    "\n",
    "from pantheon.config import RAW_DATA_DIR, TICKERS"
   ]
  },
  {
   "cell_type": "code",
   "execution_count": 6,
   "id": "8f22e922",
   "metadata": {},
   "outputs": [
    {
     "name": "stderr",
     "output_type": "stream",
     "text": [
      "C:\\Users\\User\\AppData\\Local\\Temp\\ipykernel_6692\\3398146825.py:20: FutureWarning: YF.download() has changed argument auto_adjust default to True\n",
      "  df = yf.download(ticker, start=start_date, end=end_date, interval=\"1d\")\n",
      "[*********************100%***********************]  1 of 1 completed"
     ]
    },
    {
     "name": "stdout",
     "output_type": "stream",
     "text": [
      "📥 Downloading data for BBAS3.SA...\n",
      "✅ Data for BBAS3.SA saved to: C:\\Users\\User\\Documents\\GitHub\\pantheon-quant\\data\\raw\\stocks_rawdata_10y\\BBAS3.csv\n",
      "\n"
     ]
    },
    {
     "name": "stderr",
     "output_type": "stream",
     "text": [
      "\n",
      "C:\\Users\\User\\AppData\\Local\\Temp\\ipykernel_6692\\3398146825.py:20: FutureWarning: YF.download() has changed argument auto_adjust default to True\n",
      "  df = yf.download(ticker, start=start_date, end=end_date, interval=\"1d\")\n",
      "[*********************100%***********************]  1 of 1 completed"
     ]
    },
    {
     "name": "stdout",
     "output_type": "stream",
     "text": [
      "📥 Downloading data for ITUB4.SA...\n",
      "✅ Data for ITUB4.SA saved to: C:\\Users\\User\\Documents\\GitHub\\pantheon-quant\\data\\raw\\stocks_rawdata_10y\\ITUB4.csv\n",
      "\n"
     ]
    },
    {
     "name": "stderr",
     "output_type": "stream",
     "text": [
      "\n",
      "C:\\Users\\User\\AppData\\Local\\Temp\\ipykernel_6692\\3398146825.py:20: FutureWarning: YF.download() has changed argument auto_adjust default to True\n",
      "  df = yf.download(ticker, start=start_date, end=end_date, interval=\"1d\")\n",
      "[*********************100%***********************]  1 of 1 completed"
     ]
    },
    {
     "name": "stdout",
     "output_type": "stream",
     "text": [
      "📥 Downloading data for BBDC4.SA...\n",
      "✅ Data for BBDC4.SA saved to: C:\\Users\\User\\Documents\\GitHub\\pantheon-quant\\data\\raw\\stocks_rawdata_10y\\BBDC4.csv\n",
      "\n"
     ]
    },
    {
     "name": "stderr",
     "output_type": "stream",
     "text": [
      "\n",
      "C:\\Users\\User\\AppData\\Local\\Temp\\ipykernel_6692\\3398146825.py:20: FutureWarning: YF.download() has changed argument auto_adjust default to True\n",
      "  df = yf.download(ticker, start=start_date, end=end_date, interval=\"1d\")\n",
      "[*********************100%***********************]  1 of 1 completed"
     ]
    },
    {
     "name": "stdout",
     "output_type": "stream",
     "text": [
      "📥 Downloading data for B3SA3.SA...\n",
      "✅ Data for B3SA3.SA saved to: C:\\Users\\User\\Documents\\GitHub\\pantheon-quant\\data\\raw\\stocks_rawdata_10y\\B3SA3.csv\n",
      "\n"
     ]
    },
    {
     "name": "stderr",
     "output_type": "stream",
     "text": [
      "\n",
      "C:\\Users\\User\\AppData\\Local\\Temp\\ipykernel_6692\\3398146825.py:20: FutureWarning: YF.download() has changed argument auto_adjust default to True\n",
      "  df = yf.download(ticker, start=start_date, end=end_date, interval=\"1d\")\n",
      "[*********************100%***********************]  1 of 1 completed"
     ]
    },
    {
     "name": "stdout",
     "output_type": "stream",
     "text": [
      "📥 Downloading data for BPAC11.SA...\n",
      "✅ Data for BPAC11.SA saved to: C:\\Users\\User\\Documents\\GitHub\\pantheon-quant\\data\\raw\\stocks_rawdata_10y\\BPAC11.csv\n",
      "\n"
     ]
    },
    {
     "name": "stderr",
     "output_type": "stream",
     "text": [
      "\n",
      "C:\\Users\\User\\AppData\\Local\\Temp\\ipykernel_6692\\3398146825.py:20: FutureWarning: YF.download() has changed argument auto_adjust default to True\n",
      "  df = yf.download(ticker, start=start_date, end=end_date, interval=\"1d\")\n",
      "[*********************100%***********************]  1 of 1 completed"
     ]
    },
    {
     "name": "stdout",
     "output_type": "stream",
     "text": [
      "📥 Downloading data for PETR4.SA...\n",
      "✅ Data for PETR4.SA saved to: C:\\Users\\User\\Documents\\GitHub\\pantheon-quant\\data\\raw\\stocks_rawdata_10y\\PETR4.csv\n",
      "\n"
     ]
    },
    {
     "name": "stderr",
     "output_type": "stream",
     "text": [
      "\n",
      "C:\\Users\\User\\AppData\\Local\\Temp\\ipykernel_6692\\3398146825.py:20: FutureWarning: YF.download() has changed argument auto_adjust default to True\n",
      "  df = yf.download(ticker, start=start_date, end=end_date, interval=\"1d\")\n",
      "[*********************100%***********************]  1 of 1 completed"
     ]
    },
    {
     "name": "stdout",
     "output_type": "stream",
     "text": [
      "📥 Downloading data for PRIO3.SA...\n",
      "✅ Data for PRIO3.SA saved to: C:\\Users\\User\\Documents\\GitHub\\pantheon-quant\\data\\raw\\stocks_rawdata_10y\\PRIO3.csv\n",
      "\n"
     ]
    },
    {
     "name": "stderr",
     "output_type": "stream",
     "text": [
      "\n",
      "C:\\Users\\User\\AppData\\Local\\Temp\\ipykernel_6692\\3398146825.py:20: FutureWarning: YF.download() has changed argument auto_adjust default to True\n",
      "  df = yf.download(ticker, start=start_date, end=end_date, interval=\"1d\")\n",
      "[*********************100%***********************]  1 of 1 completed"
     ]
    },
    {
     "name": "stdout",
     "output_type": "stream",
     "text": [
      "📥 Downloading data for ELET3.SA...\n",
      "✅ Data for ELET3.SA saved to: C:\\Users\\User\\Documents\\GitHub\\pantheon-quant\\data\\raw\\stocks_rawdata_10y\\ELET3.csv\n",
      "\n"
     ]
    },
    {
     "name": "stderr",
     "output_type": "stream",
     "text": [
      "\n",
      "C:\\Users\\User\\AppData\\Local\\Temp\\ipykernel_6692\\3398146825.py:20: FutureWarning: YF.download() has changed argument auto_adjust default to True\n",
      "  df = yf.download(ticker, start=start_date, end=end_date, interval=\"1d\")\n",
      "[*********************100%***********************]  1 of 1 completed"
     ]
    },
    {
     "name": "stdout",
     "output_type": "stream",
     "text": [
      "📥 Downloading data for ENEV3.SA...\n",
      "✅ Data for ENEV3.SA saved to: C:\\Users\\User\\Documents\\GitHub\\pantheon-quant\\data\\raw\\stocks_rawdata_10y\\ENEV3.csv\n",
      "\n"
     ]
    },
    {
     "name": "stderr",
     "output_type": "stream",
     "text": [
      "\n",
      "C:\\Users\\User\\AppData\\Local\\Temp\\ipykernel_6692\\3398146825.py:20: FutureWarning: YF.download() has changed argument auto_adjust default to True\n",
      "  df = yf.download(ticker, start=start_date, end=end_date, interval=\"1d\")\n",
      "[*********************100%***********************]  1 of 1 completed"
     ]
    },
    {
     "name": "stdout",
     "output_type": "stream",
     "text": [
      "📥 Downloading data for EQTL3.SA...\n",
      "✅ Data for EQTL3.SA saved to: C:\\Users\\User\\Documents\\GitHub\\pantheon-quant\\data\\raw\\stocks_rawdata_10y\\EQTL3.csv\n",
      "\n"
     ]
    },
    {
     "name": "stderr",
     "output_type": "stream",
     "text": [
      "\n",
      "C:\\Users\\User\\AppData\\Local\\Temp\\ipykernel_6692\\3398146825.py:20: FutureWarning: YF.download() has changed argument auto_adjust default to True\n",
      "  df = yf.download(ticker, start=start_date, end=end_date, interval=\"1d\")\n",
      "[*********************100%***********************]  1 of 1 completed"
     ]
    },
    {
     "name": "stdout",
     "output_type": "stream",
     "text": [
      "📥 Downloading data for VALE3.SA...\n",
      "✅ Data for VALE3.SA saved to: C:\\Users\\User\\Documents\\GitHub\\pantheon-quant\\data\\raw\\stocks_rawdata_10y\\VALE3.csv\n",
      "\n"
     ]
    },
    {
     "name": "stderr",
     "output_type": "stream",
     "text": [
      "\n",
      "C:\\Users\\User\\AppData\\Local\\Temp\\ipykernel_6692\\3398146825.py:20: FutureWarning: YF.download() has changed argument auto_adjust default to True\n",
      "  df = yf.download(ticker, start=start_date, end=end_date, interval=\"1d\")\n",
      "[*********************100%***********************]  1 of 1 completed"
     ]
    },
    {
     "name": "stdout",
     "output_type": "stream",
     "text": [
      "📥 Downloading data for ABEV3.SA...\n",
      "✅ Data for ABEV3.SA saved to: C:\\Users\\User\\Documents\\GitHub\\pantheon-quant\\data\\raw\\stocks_rawdata_10y\\ABEV3.csv\n",
      "\n"
     ]
    },
    {
     "name": "stderr",
     "output_type": "stream",
     "text": [
      "\n",
      "C:\\Users\\User\\AppData\\Local\\Temp\\ipykernel_6692\\3398146825.py:20: FutureWarning: YF.download() has changed argument auto_adjust default to True\n",
      "  df = yf.download(ticker, start=start_date, end=end_date, interval=\"1d\")\n",
      "[*********************100%***********************]  1 of 1 completed"
     ]
    },
    {
     "name": "stdout",
     "output_type": "stream",
     "text": [
      "📥 Downloading data for EMBR3.SA...\n",
      "✅ Data for EMBR3.SA saved to: C:\\Users\\User\\Documents\\GitHub\\pantheon-quant\\data\\raw\\stocks_rawdata_10y\\EMBR3.csv\n",
      "\n"
     ]
    },
    {
     "name": "stderr",
     "output_type": "stream",
     "text": [
      "\n",
      "C:\\Users\\User\\AppData\\Local\\Temp\\ipykernel_6692\\3398146825.py:20: FutureWarning: YF.download() has changed argument auto_adjust default to True\n",
      "  df = yf.download(ticker, start=start_date, end=end_date, interval=\"1d\")\n",
      "[*********************100%***********************]  1 of 1 completed"
     ]
    },
    {
     "name": "stdout",
     "output_type": "stream",
     "text": [
      "📥 Downloading data for CSAN3.SA...\n",
      "✅ Data for CSAN3.SA saved to: C:\\Users\\User\\Documents\\GitHub\\pantheon-quant\\data\\raw\\stocks_rawdata_10y\\CSAN3.csv\n",
      "\n"
     ]
    },
    {
     "name": "stderr",
     "output_type": "stream",
     "text": [
      "\n",
      "C:\\Users\\User\\AppData\\Local\\Temp\\ipykernel_6692\\3398146825.py:20: FutureWarning: YF.download() has changed argument auto_adjust default to True\n",
      "  df = yf.download(ticker, start=start_date, end=end_date, interval=\"1d\")\n",
      "[*********************100%***********************]  1 of 1 completed"
     ]
    },
    {
     "name": "stdout",
     "output_type": "stream",
     "text": [
      "📥 Downloading data for WEGE3.SA...\n",
      "✅ Data for WEGE3.SA saved to: C:\\Users\\User\\Documents\\GitHub\\pantheon-quant\\data\\raw\\stocks_rawdata_10y\\WEGE3.csv\n",
      "\n"
     ]
    },
    {
     "name": "stderr",
     "output_type": "stream",
     "text": [
      "\n"
     ]
    },
    {
     "name": "stdout",
     "output_type": "stream",
     "text": [
      "\n",
      "🏁 Done! All files have been successfully generated.\n"
     ]
    }
   ],
   "source": [
    "# Create the main output directory\n",
    "output_dir = \"stocks_rawdata_10y\"\n",
    "os.makedirs(RAW_DATA_DIR / output_dir, exist_ok=True)\n",
    "\n",
    "import yfinance as yf\n",
    "\n",
    "start_date = \"2015-10-05\"\n",
    "end_date = \"2025-10-05\"\n",
    "\n",
    "# Função para limpar ticker\n",
    "def clean_ticker(ticker):\n",
    "    return ticker.replace(\".SA\", \"\").upper()\n",
    "\n",
    "# Loop por ticker\n",
    "for ticker in TICKERS:\n",
    "    try:\n",
    "        print(f\"📥 Downloading data for {ticker}...\")\n",
    "\n",
    "        # Download com yfinance\n",
    "        df = yf.download(ticker, start=start_date, end=end_date, interval=\"1d\")\n",
    "\n",
    "        if df.empty:\n",
    "            print(f\"⚠️ No data found for {ticker}. Skipping.\\n\")\n",
    "            continue\n",
    "\n",
    "        # Resetar índice (Date vira coluna)\n",
    "        df.reset_index(inplace=True)\n",
    "\n",
    "        # Se houver MultiIndex nas colunas, achatar\n",
    "        df.columns = [\n",
    "            '_'.join(col).strip() if isinstance(col, tuple) else col\n",
    "            for col in df.columns\n",
    "        ]\n",
    "\n",
    "        # Remover o ticker e o \".SA\" dos nomes das colunas\n",
    "        df.columns = [\n",
    "            col.replace(f\"_{ticker}\", \"\").replace(\".SA\", \"\")\n",
    "            for col in df.columns\n",
    "        ]\n",
    "\n",
    "        # Corrigir o nome da coluna Date_\n",
    "        df.columns = [col.replace(\"Date_\", \"Date\") for col in df.columns]\n",
    "\n",
    "        # Caminho do arquivo CSV\n",
    "        filepath = RAW_DATA_DIR / output_dir / f\"{ticker.replace('.SA','')}.csv\"\n",
    "\n",
    "        # Salvar CSV\n",
    "        df.to_csv(filepath, index=False)\n",
    "\n",
    "        print(f\"✅ Data for {ticker} saved to: {filepath}\\n\")\n",
    "\n",
    "        time.sleep(5)\n",
    "\n",
    "    except Exception as e:\n",
    "        print(f\"❌ Failed to download {ticker}: {e}\\n\")\n",
    "\n",
    "print(\"\\n🏁 Done! All files have been successfully generated.\")\n"
   ]
  }
 ],
 "metadata": {
  "kernelspec": {
   "display_name": "Python 3",
   "language": "python",
   "name": "python3"
  },
  "language_info": {
   "codemirror_mode": {
    "name": "ipython",
    "version": 3
   },
   "file_extension": ".py",
   "mimetype": "text/x-python",
   "name": "python",
   "nbconvert_exporter": "python",
   "pygments_lexer": "ipython3",
   "version": "3.11.3"
  }
 },
 "nbformat": 4,
 "nbformat_minor": 5
}
